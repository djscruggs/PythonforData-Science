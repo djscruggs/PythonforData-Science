{
 "cells": [
  {
   "cell_type": "code",
   "execution_count": 40,
   "metadata": {},
   "outputs": [
    {
     "name": "stdout",
     "output_type": "stream",
     "text": [
      "0\n",
      "1\n",
      "2\n",
      "3\n"
     ]
    },
    {
     "data": {
      "text/html": [
       "<div>\n",
       "<style scoped>\n",
       "    .dataframe tbody tr th:only-of-type {\n",
       "        vertical-align: middle;\n",
       "    }\n",
       "\n",
       "    .dataframe tbody tr th {\n",
       "        vertical-align: top;\n",
       "    }\n",
       "\n",
       "    .dataframe thead th {\n",
       "        text-align: right;\n",
       "    }\n",
       "</style>\n",
       "<table border=\"1\" class=\"dataframe\">\n",
       "  <thead>\n",
       "    <tr style=\"text-align: right;\">\n",
       "      <th></th>\n",
       "      <th>Number</th>\n",
       "      <th>String</th>\n",
       "      <th>Boolean</th>\n",
       "    </tr>\n",
       "  </thead>\n",
       "  <tbody>\n",
       "    <tr>\n",
       "      <th>0</th>\n",
       "      <td>1</td>\n",
       "      <td>First</td>\n",
       "      <td>True</td>\n",
       "    </tr>\n",
       "    <tr>\n",
       "      <th>1</th>\n",
       "      <td>2</td>\n",
       "      <td>Second</td>\n",
       "      <td>False</td>\n",
       "    </tr>\n",
       "    <tr>\n",
       "      <th>2</th>\n",
       "      <td>3</td>\n",
       "      <td>Third</td>\n",
       "      <td>True</td>\n",
       "    </tr>\n",
       "  </tbody>\n",
       "</table>\n",
       "</div>"
      ],
      "text/plain": [
       "  Number  String Boolean\n",
       "0      1   First    True\n",
       "1      2  Second   False\n",
       "2      3   Third    True"
      ]
     },
     "execution_count": 40,
     "metadata": {},
     "output_type": "execute_result"
    }
   ],
   "source": [
    "from lxml import objectify\n",
    "import pandas as pd\n",
    "\n",
    "xml = objectify.parse(open('XMLData2.xml'))\n",
    "root = xml.getroot()\n",
    "df = pd.DataFrame(columns=('Number','String', 'Boolean'))\n",
    "for i in range(0,4):\n",
    "  print(i)\n",
    "  obj = root.getchildren()[i].getchildren()\n",
    "  row = dict(zip(['Number','String', 'Boolean'],\n",
    "                  [obj[0].text, \n",
    "                   obj[1].text, \n",
    "                   obj[2].text]))\n",
    "  row_s = pd.Series(row)\n",
    "  row_s.name = i\n",
    "  df.loc[i] = row_s\n",
    "df\n",
    "search = pd.DataFrame.duplicated(df)\n",
    "df = df.drop_duplicates()\n",
    "df"
   ]
  }
 ],
 "metadata": {
  "kernelspec": {
   "display_name": "venv",
   "language": "python",
   "name": "python3"
  },
  "language_info": {
   "name": "python",
   "version": "3.11.5"
  }
 },
 "nbformat": 4,
 "nbformat_minor": 2
}
